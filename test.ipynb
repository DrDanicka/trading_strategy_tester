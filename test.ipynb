{
 "cells": [
  {
   "cell_type": "code",
   "id": "initial_id",
   "metadata": {
    "collapsed": true,
    "ExecuteTime": {
     "end_time": "2024-08-15T19:09:54.647283Z",
     "start_time": "2024-08-15T19:09:54.643309Z"
    }
   },
   "source": [
    "from datetime import datetime\n",
    "\n",
    "import yfinance as yf"
   ],
   "outputs": [],
   "execution_count": 7
  },
  {
   "metadata": {
    "ExecuteTime": {
     "end_time": "2024-08-15T19:53:25.881342Z",
     "start_time": "2024-08-15T19:53:25.606507Z"
    }
   },
   "cell_type": "code",
   "source": [
    "df = yf.download(tickers=['AAPL'], interval='5d', start=datetime(1970, 1, 1), end=datetime.today())\n",
    "\n",
    "series1 = df['Close']\n",
    "series2 = df['Open']"
   ],
   "id": "e53aab8d87e6ca34",
   "outputs": [
    {
     "name": "stderr",
     "output_type": "stream",
     "text": [
      "[*********************100%%**********************]  1 of 1 completed\n"
     ]
    }
   ],
   "execution_count": 17
  },
  {
   "metadata": {
    "ExecuteTime": {
     "end_time": "2024-08-15T19:53:26.953421Z",
     "start_time": "2024-08-15T19:53:26.949690Z"
    }
   },
   "cell_type": "code",
   "source": "crossover = (series1.shift(1) < series2.shift(1)) & (series1 > series2)",
   "id": "6e7ab8198f77368",
   "outputs": [],
   "execution_count": 18
  },
  {
   "metadata": {
    "ExecuteTime": {
     "end_time": "2024-08-15T19:54:04.619336Z",
     "start_time": "2024-08-15T19:54:04.614346Z"
    }
   },
   "cell_type": "code",
   "source": "crossover.fillna(False)",
   "id": "3563a8699b11422",
   "outputs": [
    {
     "data": {
      "text/plain": [
       "Date\n",
       "1980-12-12    False\n",
       "1980-12-17    False\n",
       "1980-12-22    False\n",
       "1981-01-06    False\n",
       "1981-01-16    False\n",
       "              ...  \n",
       "2024-07-19    False\n",
       "2024-07-24    False\n",
       "2024-07-29     True\n",
       "2024-08-08    False\n",
       "2024-08-13    False\n",
       "Length: 2201, dtype: bool"
      ]
     },
     "execution_count": 23,
     "metadata": {},
     "output_type": "execute_result"
    }
   ],
   "execution_count": 23
  },
  {
   "metadata": {},
   "cell_type": "code",
   "outputs": [],
   "execution_count": null,
   "source": "",
   "id": "7346719bb9d6163b"
  }
 ],
 "metadata": {
  "kernelspec": {
   "display_name": "Python 3",
   "language": "python",
   "name": "python3"
  },
  "language_info": {
   "codemirror_mode": {
    "name": "ipython",
    "version": 2
   },
   "file_extension": ".py",
   "mimetype": "text/x-python",
   "name": "python",
   "nbconvert_exporter": "python",
   "pygments_lexer": "ipython2",
   "version": "2.7.6"
  }
 },
 "nbformat": 4,
 "nbformat_minor": 5
}
